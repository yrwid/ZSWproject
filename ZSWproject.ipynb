{
 "cells": [
  {
   "cell_type": "code",
   "execution_count": null,
   "metadata": {},
   "outputs": [
    {
     "data": {
      "text/markdown": [
       "# Input data structure:"
      ],
      "text/plain": [
       "<IPython.core.display.Markdown object>"
      ]
     },
     "metadata": {},
     "output_type": "display_data"
    },
    {
     "data": {
      "text/markdown": [
       "init task time| process time for each machine| Patch for task"
      ],
      "text/plain": [
       "<IPython.core.display.Markdown object>"
      ]
     },
     "metadata": {},
     "output_type": "display_data"
    },
    {
     "data": {
      "text/markdown": [
       "# Input data example:"
      ],
      "text/plain": [
       "<IPython.core.display.Markdown object>"
      ]
     },
     "metadata": {},
     "output_type": "display_data"
    },
    {
     "data": {
      "text/markdown": [
       "2| 2.5, 3.0, 4, 4| 4, 2, 3, 1"
      ],
      "text/plain": [
       "<IPython.core.display.Markdown object>"
      ]
     },
     "metadata": {},
     "output_type": "display_data"
    },
    {
     "data": {
      "text/markdown": [
       "0| 2.0, 3.5, 4| 4, 1, 3"
      ],
      "text/plain": [
       "<IPython.core.display.Markdown object>"
      ]
     },
     "metadata": {},
     "output_type": "display_data"
    },
    {
     "data": {
      "text/markdown": [
       "1| 2.0, 1.0| 2, 3"
      ],
      "text/plain": [
       "<IPython.core.display.Markdown object>"
      ]
     },
     "metadata": {},
     "output_type": "display_data"
    },
    {
     "data": {
      "text/markdown": [
       "itp ..."
      ],
      "text/plain": [
       "<IPython.core.display.Markdown object>"
      ]
     },
     "metadata": {},
     "output_type": "display_data"
    },
    {
     "data": {
      "text/markdown": [
       "# Schedule table for tasks"
      ],
      "text/plain": [
       "<IPython.core.display.Markdown object>"
      ]
     },
     "metadata": {},
     "output_type": "display_data"
    },
    {
     "data": {
      "text/markdown": [
       "<table>  <tr><td>    </td><td> Task    </td><td> Arrival Time    </td><td> Task schedule  </td></tr>  <tr><td>    </td><td>1    </td><td>2    </td><td>M4(2.5)    </td><td>M2(3.0)    </td><td>M3(4)    </td><td>M1(4)  </td></tr>  <tr><td>    </td><td>2    </td><td>0    </td><td>M4(2.0)    </td><td>M1(3.5)    </td><td>M3(4)  </td></tr>  <tr><td>    </td><td>3    </td><td>1    </td><td>M2(2.0)    </td><td>M3(1.0)  </td></tr>  <tr><td>    </td><td>4    </td><td>0    </td><td>M2(2.5)    </td><td>M4(3.5)    </td><td>M3(1.5)    </td><td>M1(2.5)  </td></tr></table>"
      ],
      "text/plain": [
       "<IPython.core.display.Markdown object>"
      ]
     },
     "metadata": {},
     "output_type": "display_data"
    },
    {
     "data": {
      "text/markdown": [
       "# Your Input"
      ],
      "text/plain": [
       "<IPython.core.display.Markdown object>"
      ]
     },
     "metadata": {},
     "output_type": "display_data"
    }
   ],
   "source": [
    "from IPython.display import display, Markdown\n",
    "import time\n",
    "\n",
    "#Create HTML table-------------------------------------------------------------------------------------------------------------------\n",
    "#insert entities into html template \n",
    "def html_table(lol):\n",
    "    i = 1\n",
    "    markdownString = ''\n",
    "    \n",
    "    markdownString += '<table>'\n",
    "    markdownString += '  <tr><td>'\n",
    "    markdownString += '    </td><td> Task'\n",
    "    markdownString += '    </td><td> Arrival Time'\n",
    "    markdownString += '    </td><td> Task schedule'\n",
    "    markdownString += '  </td></tr>'\n",
    "    for sublist in lol:\n",
    "        markdownString += '  <tr><td>'\n",
    "        markdownString += '    </td><td>' + str(i)\n",
    "        for item in sublist:\n",
    "            markdownString += '    </td><td>' + item\n",
    "        markdownString += '  </td></tr>'\n",
    "        i += 1\n",
    "    markdownString += '</table>'\n",
    "    return markdownString\n",
    "\n",
    "#split data from int list to raw string\n",
    "def toHTMLlist(plist):\n",
    "    htmlStr = []\n",
    "    sizeList = ['1']\n",
    "    for sublist1 in plist:\n",
    "        for sublist2 in sublist1:\n",
    "            if type(sublist2) == type(1):\n",
    "                htmlStr.append(str(sublist2))\n",
    "                sizeList.pop(len(sizeList)-1)\n",
    "                continue\n",
    "            sizeList.append(len(sublist2))\n",
    "            for item in sublist2:\n",
    "                htmlStr.append(str(item))\n",
    "    sizeList.pop(len(sizeList) - 1)\n",
    "    return htmlStr, sizeList\n",
    "\n",
    "#create HTML entities to display\n",
    "def formatHTMLstr(pHTML, sizeHTML):\n",
    "    HTMLformat = []\n",
    "    buildStr = []\n",
    "    ite = 0\n",
    "    for i in range(0, len(sizeHTML)):\n",
    "        for j in range(ite, int(sizeHTML[i])+ 1 + ite):\n",
    "            if j == ite:\n",
    "                buildStr.append(pHTML[j])\n",
    "            else:\n",
    "                buildStr.append(\"M%s(%s)\"%(pHTML[j+sizeHTML[i]],pHTML[j]))\n",
    "        ite = ite + 2*sizeHTML[i] + 1\n",
    "        HTMLformat.append(buildStr[:])\n",
    "        buildStr.clear()\n",
    "    return HTMLformat\n",
    "\n",
    "#Example display -------------------------------------------------------------------------------------------------------------------------\n",
    "def displayExample():\n",
    "    display(Markdown(\"# Input data structure:\"))\n",
    "    display(Markdown(\"init task time| process time for each machine| Patch for task\"))\n",
    "    display(Markdown(\"# Input data example:\"))\n",
    "    display(Markdown(\"2| 2.5, 3.0, 4, 4| 4, 2, 3, 1\"))\n",
    "    display(Markdown(\"0| 2.0, 3.5, 4| 4, 1, 3\"))\n",
    "    display(Markdown(\"1| 2.0, 1.0| 2, 3\"))\n",
    "    display(Markdown(\"itp ...\"))\n",
    "    p =  [(2, [2.5, 3.0, 4, 4], [4, 2, 3, 1]), (0, [2.0, 3.5, 4], [4, 1, 3]), (1, [2.0, 1.0], [2, 3]), (0, [2.5, 3.5, 1.5, 2.5], [2, 4, 3, 1])] #generate()\n",
    "    pHTML, sizeLst = toHTMLlist(p)\n",
    "    display(Markdown(\"# Schedule table for tasks\"))\n",
    "    display(Markdown(html_table(formatHTMLstr(pHTML, sizeLst))))\n",
    "\n",
    "#main -------------------------------------------------------------------------------------------------------------------------\n",
    "displayExample()\n",
    "\n",
    "\n",
    "lines = []\n",
    "lineSpl = []\n",
    "outNumberList = []\n",
    "intSplit = []\n",
    "outList = []\n",
    "nItem =[]\n",
    "outNumberTupla = ()\n",
    "returnList =[]\n",
    "\n",
    "display(Markdown(\"# Your Input\"))\n",
    "time.sleep(0.1)\n",
    "while True:\n",
    "    line = input()\n",
    "    if line:\n",
    "        lineSpl = line.split(\"|\")\n",
    "        for item in lineSpl:\n",
    "             nItem = item.replace(\",\", \"\").strip().split(\" \")\n",
    "             for number in nItem:\n",
    "                 intSplit.append(float(number[:]))\n",
    "             outNumberList.append(intSplit[:])\n",
    "             intSplit.clear()\n",
    "        outNumberList[0] = int(outNumberList[0][0])\n",
    "        OutNumberTupla = tuple(outNumberList)\n",
    "        returnList.append(OutNumberTupla)\n",
    "        outNumberList.clear()\n",
    "    else:\n",
    "        break\n",
    "        \n",
    "HTML, sizeLst = toHTMLlist(returnList)\n",
    "display(Markdown(\"# Schedule table for tasks\"))\n",
    "display(Markdown(html_table(formatHTMLstr(pHTML, sizeLst))))\n"
   ]
  },
  {
   "cell_type": "code",
   "execution_count": null,
   "metadata": {},
   "outputs": [],
   "source": []
  },
  {
   "cell_type": "code",
   "execution_count": null,
   "metadata": {},
   "outputs": [],
   "source": []
  }
 ],
 "metadata": {
  "kernelspec": {
   "display_name": "Python 3",
   "language": "python",
   "name": "python3"
  },
  "language_info": {
   "codemirror_mode": {
    "name": "ipython",
    "version": 3
   },
   "file_extension": ".py",
   "mimetype": "text/x-python",
   "name": "python",
   "nbconvert_exporter": "python",
   "pygments_lexer": "ipython3",
   "version": "3.7.6"
  }
 },
 "nbformat": 4,
 "nbformat_minor": 4
}
